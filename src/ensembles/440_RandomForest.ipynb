{
 "cells": [
  {
   "cell_type": "markdown",
   "metadata": {
    "id": "O94qX1svwzoC"
   },
   "source": [
    "# 4. Ensembles de Arboles de Decision"
   ]
  },
  {
   "cell_type": "markdown",
   "metadata": {
    "id": "HsJFTcBZw1bE"
   },
   "source": [
    "## 4.3 Random Forest"
   ]
  },
  {
   "cell_type": "markdown",
   "metadata": {
    "id": "nsgvDbemw9Tc"
   },
   "source": [
    "*Random Forest* es un algoritmo de ensembles de arboles de decision creado por Leo Brieman en 1995-2006\n",
    "https://link.springer.com/content/pdf/10.1023/a:1010933404324.pdf"
   ]
  },
  {
   "cell_type": "markdown",
   "metadata": {
    "id": "TcIpXSPvQ_Wy"
   },
   "source": [
    "La página original es:\n",
    "https://www.stat.berkeley.edu/~breiman/RandomForests/cc_home.htm"
   ]
  },
  {
   "cell_type": "markdown",
   "metadata": {
    "id": "-8kPyem6Qdb7"
   },
   "source": [
    "Dos buenos videos para seguir el paso a paso de Random Forest y aplicaciones:\n",
    "* https://www.youtube.com/watch?v=J4Wdy0Wc_xQ\n",
    "* https://www.youtube.com/watch?v=sQ870aTKqiM"
   ]
  },
  {
   "cell_type": "markdown",
   "metadata": {
    "id": "F5IdXABcQHY3"
   },
   "source": [
    "Qué tipo de perturbaciones se realizan en Random Forest\n",
    "\n",
    "*   Se perturba el dataset, con la técnica de bagging = Bootstrap Aggregating\n",
    "*   Tambien se perturba el algoritmo, utiliza random en cada split"
   ]
  },
  {
   "cell_type": "markdown",
   "metadata": {
    "id": "j75A--Tsx2df"
   },
   "source": [
    "Cada arbolito de Random Forest se entrena sobre un dataset perturbado, que tiene :\n",
    "* todas las columnas originales (esta es una GRAN diferencia con  Arboles Azarosos)\n",
    "* la misma *cantidad* de registros del dataset original, PERO generados por la técnica de sampleo con reposición del dataset original."
   ]
  },
  {
   "cell_type": "markdown",
   "metadata": {
    "id": "lg0-WDkvyObC"
   },
   "source": [
    "A pesar de que Leo Brieman es también el inventor de CART (Classification and Regression Trees) Random Forest no corre el algoritmo CART de la libreria rpart, sino un CART perturbado, en donde cada split NO se hace sobre todos los campos del dataset, sino sobre un csubconjunto tomado al azar, esa cantidad es el hiperparámetro *mtry*"
   ]
  },
  {
   "cell_type": "markdown",
   "metadata": {
    "id": "PX0qg_c0yqob"
   },
   "source": [
    "#### 4.3.1  Seteo del ambiente en Google Colab"
   ]
  },
  {
   "cell_type": "markdown",
   "metadata": {
    "id": "NGY7H9xza7Zr"
   },
   "source": [
    "Esta parte se debe correr con el runtime en Python3\n",
    "<br>Ir al menu, Runtime -> Change Runtime Type -> Runtime type ->  **Python 3**"
   ]
  },
  {
   "cell_type": "markdown",
   "metadata": {
    "id": "7PupIBNba7Zr"
   },
   "source": [
    "Conectar la virtual machine donde esta corriendo Google Colab con el  Google Drive, para poder tener persistencia de archivos"
   ]
  },
  {
   "cell_type": "code",
   "execution_count": null,
   "metadata": {
    "id": "9LpZCst5a7Zs"
   },
   "outputs": [],
   "source": [
    "# primero establecer el Runtime de Python 3\n",
    "from google.colab import drive\n",
    "drive.mount('/content/.drive')"
   ]
  },
  {
   "cell_type": "markdown",
   "metadata": {
    "id": "JYC_F-wla7Zs"
   },
   "source": [
    "Para correr la siguiente celda es fundamental en Arranque en Frio haber copiado el archivo kaggle.json al Google Drive, en la carpeta indicada en el instructivo\n",
    "\n",
    "<br>los siguientes comando estan en shell script de Linux\n",
    "*   Crear las carpetas en el Google Drive\n",
    "*   \"instalar\" el archivo kaggle.json desde el Google Drive a la virtual machine para que pueda ser utilizado por la libreria  kaggle de Python\n",
    "*   Bajar el  **dataset_pequeno**  al  Google Drive  y tambien al disco local de la virtual machine que esta corriendo Google Colab\n",
    "\n"
   ]
  },
  {
   "cell_type": "code",
   "execution_count": null,
   "metadata": {
    "id": "XWLelftXa7Zt"
   },
   "outputs": [],
   "source": [
    "%%shell\n",
    "\n",
    "mkdir -p \"/content/.drive/My Drive/dm\"\n",
    "mkdir -p \"/content/buckets\"\n",
    "ln -s \"/content/.drive/My Drive/dm\" /content/buckets/b1\n",
    "\n",
    "mkdir -p ~/.kaggle\n",
    "cp /content/buckets/b1/kaggle/kaggle.json  ~/.kaggle\n",
    "chmod 600 ~/.kaggle/kaggle.json\n",
    "\n",
    "\n",
    "mkdir -p /content/buckets/b1/exp\n",
    "mkdir -p /content/buckets/b1/datasets\n",
    "mkdir -p /content/datasets\n",
    "\n",
    "\n",
    "\n",
    "archivo_origen=\"https://storage.googleapis.com/open-courses/itba2025-8d0a/dataset_pequeno.csv\"\n",
    "archivo_destino=\"/content/datasets/dataset_pequeno.csv\"\n",
    "archivo_destino_bucket=\"/content/buckets/b1/datasets/dataset_pequeno.csv\"\n",
    "\n",
    "if ! test -f $archivo_destino_bucket; then\n",
    "  wget  $archivo_origen  -O $archivo_destino_bucket\n",
    "fi\n",
    "\n",
    "\n",
    "if ! test -f $archivo_destino; then\n",
    "  cp  $archivo_destino_bucket  $archivo_destino\n",
    "fi\n"
   ]
  },
  {
   "cell_type": "markdown",
   "metadata": {
    "id": "oSKhZRToy2F7"
   },
   "source": [
    "### 4.4  Random Forest, una corrida"
   ]
  },
  {
   "cell_type": "markdown",
   "metadata": {
    "id": "zvUgQ8s8ReAp"
   },
   "source": [
    "El tiempo de corrida de este punto es de alrededor de 8 minutos"
   ]
  },
  {
   "cell_type": "markdown",
   "metadata": {
    "id": "eSU5vi00CPRS"
   },
   "source": [
    "Esta parte se debe correr con el runtime en lenguaje **R** Ir al menu, Runtime -> Change Runtime Type -> Runtime type -> R"
   ]
  },
  {
   "cell_type": "markdown",
   "metadata": {
    "id": "Zq8dySimCPRT"
   },
   "source": [
    "limpio el ambiente de R"
   ]
  },
  {
   "cell_type": "code",
   "execution_count": 1,
   "metadata": {
    "id": "54xgC6vpObNA"
   },
   "outputs": [
    {
     "data": {
      "text/html": [
       "'Sun Aug 31 23:20:15 2025'"
      ],
      "text/latex": [
       "'Sun Aug 31 23:20:15 2025'"
      ],
      "text/markdown": [
       "'Sun Aug 31 23:20:15 2025'"
      ],
      "text/plain": [
       "[1] \"Sun Aug 31 23:20:15 2025\""
      ]
     },
     "metadata": {},
     "output_type": "display_data"
    }
   ],
   "source": [
    "format(Sys.time(), \"%a %b %d %X %Y\")"
   ]
  },
  {
   "cell_type": "code",
   "execution_count": 2,
   "metadata": {
    "id": "1iE0U4_WCPRT"
   },
   "outputs": [
    {
     "data": {
      "text/html": [
       "<table class=\"dataframe\">\n",
       "<caption>A matrix: 2 × 6 of type dbl</caption>\n",
       "<thead>\n",
       "\t<tr><th></th><th scope=col>used</th><th scope=col>(Mb)</th><th scope=col>gc trigger</th><th scope=col>(Mb)</th><th scope=col>max used</th><th scope=col>(Mb)</th></tr>\n",
       "</thead>\n",
       "<tbody>\n",
       "\t<tr><th scope=row>Ncells</th><td> 656930</td><td>35.1</td><td>1439380</td><td>76.9</td><td>1431352</td><td>76.5</td></tr>\n",
       "\t<tr><th scope=row>Vcells</th><td>1224983</td><td> 9.4</td><td>8388608</td><td>64.0</td><td>1924961</td><td>14.7</td></tr>\n",
       "</tbody>\n",
       "</table>\n"
      ],
      "text/latex": [
       "A matrix: 2 × 6 of type dbl\n",
       "\\begin{tabular}{r|llllll}\n",
       "  & used & (Mb) & gc trigger & (Mb) & max used & (Mb)\\\\\n",
       "\\hline\n",
       "\tNcells &  656930 & 35.1 & 1439380 & 76.9 & 1431352 & 76.5\\\\\n",
       "\tVcells & 1224983 &  9.4 & 8388608 & 64.0 & 1924961 & 14.7\\\\\n",
       "\\end{tabular}\n"
      ],
      "text/markdown": [
       "\n",
       "A matrix: 2 × 6 of type dbl\n",
       "\n",
       "| <!--/--> | used | (Mb) | gc trigger | (Mb) | max used | (Mb) |\n",
       "|---|---|---|---|---|---|---|\n",
       "| Ncells |  656930 | 35.1 | 1439380 | 76.9 | 1431352 | 76.5 |\n",
       "| Vcells | 1224983 |  9.4 | 8388608 | 64.0 | 1924961 | 14.7 |\n",
       "\n"
      ],
      "text/plain": [
       "       used    (Mb) gc trigger (Mb) max used (Mb)\n",
       "Ncells  656930 35.1 1439380    76.9 1431352  76.5\n",
       "Vcells 1224983  9.4 8388608    64.0 1924961  14.7"
      ]
     },
     "metadata": {},
     "output_type": "display_data"
    }
   ],
   "source": [
    "# limpio la memoria\n",
    "rm(list=ls(all.names=TRUE)) # remove all objects\n",
    "gc(full=TRUE, verbose=FALSE) # garbage collection"
   ]
  },
  {
   "cell_type": "markdown",
   "metadata": {
    "id": "vOhrxo_s0lhn"
   },
   "source": [
    "**ranger** es una de las muchas librerías en lenguage R que implementa el algoritmo *Random Forest*, tiene la ventaja que corre el paralelo, utilizando todos los nucleos del procesador."
   ]
  },
  {
   "cell_type": "code",
   "execution_count": 3,
   "metadata": {
    "id": "BJDwdD0dCPRU"
   },
   "outputs": [
    {
     "name": "stderr",
     "output_type": "stream",
     "text": [
      "Loading required package: data.table\n",
      "\n",
      "Loading required package: rpart\n",
      "\n",
      "Loading required package: ranger\n",
      "\n",
      "Loading required package: randomForest\n",
      "\n",
      "randomForest 4.7-1.2\n",
      "\n",
      "Type rfNews() to see new features/changes/bug fixes.\n",
      "\n",
      "\n",
      "Attaching package: ‘randomForest’\n",
      "\n",
      "\n",
      "The following object is masked from ‘package:ranger’:\n",
      "\n",
      "    importance\n",
      "\n",
      "\n"
     ]
    }
   ],
   "source": [
    "# cargo las librerias que necesito\n",
    "require(\"data.table\")\n",
    "require(\"rpart\")\n",
    "\n",
    "# ranger se usa para procesar\n",
    "if( !require(\"ranger\") ) install.packages(\"ranger\")\n",
    "require(\"ranger\")\n",
    "\n",
    "# randomForest  solo se usa para imputar nulos\n",
    "if( !require(\"randomForest\") ) install.packages(\"randomForest\")\n",
    "require(\"randomForest\")"
   ]
  },
  {
   "cell_type": "markdown",
   "metadata": {
    "id": "M8-Pyp6CCPRU"
   },
   "source": [
    "Aqui debe cargar SU semilla primigenia y"
   ]
  },
  {
   "cell_type": "code",
   "execution_count": 4,
   "metadata": {
    "id": "peRH7ySLCPRV"
   },
   "outputs": [],
   "source": [
    "PARAM <- list()\n",
    "PARAM$experimento <- 440\n",
    "PARAM$semilla_primigenia <- 100109\n",
    "\n",
    "PARAM$ranger$num.trees <- 300 # cantidad de arboles\n",
    "PARAM$ranger$mtry <- 13 # cantidad de atributos que participan en cada split\n",
    "PARAM$ranger$min.node.size <- 50 # tamaño minimo de las hojas\n",
    "PARAM$ranger$max.depth <- 10 # 0 significa profundidad infinita\n"
   ]
  },
  {
   "cell_type": "code",
   "execution_count": 5,
   "metadata": {
    "id": "1gZD6ZMvCPRV"
   },
   "outputs": [],
   "source": [
    "# carpeta de trabajo\n",
    "setwd(\"/content/buckets/b1/exp\")\n",
    "experimento_folder <- paste0(\"KA\", PARAM$experimento)\n",
    "dir.create(experimento_folder, showWarnings=FALSE)\n",
    "setwd( paste0(\"/content/buckets/b1/exp/\", experimento_folder ))"
   ]
  },
  {
   "cell_type": "code",
   "execution_count": 6,
   "metadata": {
    "id": "Xi0emX2ECPRV"
   },
   "outputs": [],
   "source": [
    "# lectura del dataset\n",
    "dataset <- fread(\"/content/datasets/dataset_pequeno.csv\")"
   ]
  },
  {
   "cell_type": "code",
   "execution_count": 7,
   "metadata": {
    "id": "-3XuBeDy1Ugj"
   },
   "outputs": [],
   "source": [
    "#  estas dos lineas estan relacionadas con el Data Drifting\n",
    "# asigno un valor muy negativo\n",
    "\n",
    "if( \"Master_Finiciomora\" %in% colnames(dataset) )\n",
    "  dataset[ is.na(Master_Finiciomora) , Master_Finiciomora := -999 ]\n",
    "\n",
    "if( \"Visa_Finiciomora\" %in% colnames(dataset) )\n",
    "  dataset[ is.na(Visa_Finiciomora) , Visa_Finiciomora :=  -999 ]\n"
   ]
  },
  {
   "cell_type": "code",
   "execution_count": 8,
   "metadata": {
    "id": "RA3cSJ6KaGwA"
   },
   "outputs": [],
   "source": [
    "# defino los dataset de entrenamiento y aplicacion\n",
    "dtrain <- dataset[foto_mes == 202107]\n",
    "dfuture <- dataset[foto_mes == 202109]"
   ]
  },
  {
   "cell_type": "code",
   "execution_count": 9,
   "metadata": {
    "id": "T6Zr06HB1kMU"
   },
   "outputs": [],
   "source": [
    "set.seed( PARAM$semilla_primigenia ) # Establezco la semilla aleatoria\n",
    "\n",
    "\n",
    "# ranger necesita la clase de tipo factor\n",
    "factorizado <- as.factor(dtrain$clase_ternaria)\n",
    "dtrain[, clase_ternaria := factorizado]"
   ]
  },
  {
   "cell_type": "code",
   "execution_count": 10,
   "metadata": {
    "id": "U2vkkByI1oPl"
   },
   "outputs": [],
   "source": [
    "# Ranger NO acepta valores nulos\n",
    "# Leo Breiman, ¿por que le temias a los nulos?\n",
    "# imputo los nulos, ya que ranger no acepta nulos\n",
    "dtrain <- na.roughfix(dtrain)\n",
    "\n"
   ]
  },
  {
   "cell_type": "code",
   "execution_count": 11,
   "metadata": {
    "id": "TI9_5pii2zCF"
   },
   "outputs": [
    {
     "name": "stdout",
     "output_type": "stream",
     "text": [
      "Growing trees.. Progress: 33%. Estimated remaining time: 1 minute, 2 seconds.\n",
      "Growing trees.. Progress: 67%. Estimated remaining time: 30 seconds.\n"
     ]
    }
   ],
   "source": [
    "setorder(dtrain, clase_ternaria) # primero quedan los BAJA+1, BAJA+2, CONTINUA\n",
    "\n",
    "# genero el modelo de Random Forest llamando a ranger()\n",
    "modelo <- ranger(\n",
    "  formula= \"clase_ternaria ~ .\",\n",
    "  data= dtrain,\n",
    "  probability= TRUE, # para que devuelva las probabilidades\n",
    "  num.trees= PARAM$ranger$num.trees,\n",
    "  mtry= PARAM$ranger$mtry,\n",
    "  min.node.size= PARAM$ranger$min.node.size,\n",
    "  max.depth= PARAM$ranger$max.depth\n",
    ")\n"
   ]
  },
  {
   "cell_type": "code",
   "execution_count": 12,
   "metadata": {
    "id": "xjWjhp9c20fe"
   },
   "outputs": [],
   "source": [
    "# Carpinteria necesaria sobre  dfuture\n",
    "# como quiere la Estadistica Clasica, imputar nulos por separado\n",
    "# ( aunque en este caso ya tengo los datos del futuro de antemano\n",
    "#  pero bueno, sigamos el librito de estos fundamentalistas a rajatabla ...\n",
    "\n",
    "dfuture[, clase_ternaria := NULL]\n",
    "dfuture <- na.roughfix(dfuture)"
   ]
  },
  {
   "cell_type": "code",
   "execution_count": 13,
   "metadata": {
    "id": "iJxk4qsd9kgX"
   },
   "outputs": [],
   "source": [
    "tb_prediccion <- dfuture[, list(numero_de_cliente)]"
   ]
  },
  {
   "cell_type": "code",
   "execution_count": 14,
   "metadata": {
    "id": "kkTGHx2K3Mjq"
   },
   "outputs": [],
   "source": [
    "# aplico el modelo a los datos que no tienen clase\n",
    "# aplico el modelo recien creado a los datos del futuro\n",
    "prediccion <- predict(modelo, dfuture)\n",
    "\n",
    "tb_prediccion[, prob := prediccion$predictions[, \"BAJA+2\"] ]"
   ]
  },
  {
   "cell_type": "code",
   "execution_count": 15,
   "metadata": {
    "id": "F8O_PLWo3aIQ"
   },
   "outputs": [],
   "source": [
    "tb_prediccion[, Predicted := as.numeric(prob > (1/40))]"
   ]
  },
  {
   "cell_type": "code",
   "execution_count": 16,
   "metadata": {
    "id": "uZLUbDIJ3tbx"
   },
   "outputs": [],
   "source": [
    "archivo_kaggle <- paste0(\"KA\", PARAM$experimento,\".csv\")\n",
    "\n",
    "# grabo el archivo\n",
    "fwrite( tb_prediccion[, list(numero_de_cliente, Predicted)],\n",
    " file= archivo_kaggle,\n",
    " sep= \",\"\n",
    ")\n"
   ]
  },
  {
   "cell_type": "code",
   "execution_count": 17,
   "metadata": {
    "id": "-hciL1Jn3ThU"
   },
   "outputs": [
    {
     "name": "stdout",
     "output_type": "stream",
     "text": [
      "Successfully submitted to Data Mining, Analista Sr 2025 B"
     ]
    }
   ],
   "source": [
    "# subida a Kaggle\n",
    "comando <- \"kaggle competitions submit\"\n",
    "competencia <- \"-c data-mining-analista-sr-2025-b\"\n",
    "arch <- paste( \"-f\", archivo_kaggle)\n",
    "\n",
    "mensaje <- paste0(\"-m 'num.trees=\", PARAM$ranger$num.trees, \"  mtry=\", PARAM$ranger$mtry, \"  min.node.size=\", PARAM$ranger$min.node.size, \" max.depth=\", PARAM$ranger$max.depth, \"'\" )\n",
    "linea <- paste( comando, competencia, arch, mensaje)\n",
    "salida <- system(linea, intern= TRUE)\n",
    "cat(salida)"
   ]
  },
  {
   "cell_type": "code",
   "execution_count": 18,
   "metadata": {
    "id": "CeCMEUCWOpLF"
   },
   "outputs": [
    {
     "data": {
      "text/html": [
       "'Sun Aug 31 23:23:17 2025'"
      ],
      "text/latex": [
       "'Sun Aug 31 23:23:17 2025'"
      ],
      "text/markdown": [
       "'Sun Aug 31 23:23:17 2025'"
      ],
      "text/plain": [
       "[1] \"Sun Aug 31 23:23:17 2025\""
      ]
     },
     "metadata": {},
     "output_type": "display_data"
    }
   ],
   "source": [
    "format(Sys.time(), \"%a %b %d %X %Y\")"
   ]
  },
  {
   "cell_type": "markdown",
   "metadata": {
    "id": "UMr6Z1enOyd3"
   },
   "source": [
    "\n",
    "\n",
    "---\n",
    "\n"
   ]
  },
  {
   "cell_type": "markdown",
   "metadata": {
    "id": "lO4QwOEU-xPe"
   },
   "source": [
    "### 4.5  Random Forest  optimizacion de hiperparámetros"
   ]
  },
  {
   "cell_type": "markdown",
   "metadata": {
    "id": "75FU3LjSF2uN"
   },
   "source": [
    "Random Forest es un algoritmo que quedó obsoleto luego de la aparición de  XGBoost y LightGBM, debido a lo lento de las librerías que lo implementan.\n",
    "<br> El siguiente script se brinda simplemente a modo pedagógico, advirtiendo a los alumn@s que demanda más de 24 horas para correr, y los resultados son mediocres."
   ]
  },
  {
   "cell_type": "markdown",
   "metadata": {
    "id": "aJBO5Dcb_B7s"
   },
   "source": [
    "limpio el ambiente de R"
   ]
  },
  {
   "cell_type": "code",
   "execution_count": 1,
   "metadata": {
    "id": "Q_E3YLs2Pulh"
   },
   "outputs": [
    {
     "data": {
      "text/html": [
       "'Mon Sep 01 01:48:34 2025'"
      ],
      "text/latex": [
       "'Mon Sep 01 01:48:34 2025'"
      ],
      "text/markdown": [
       "'Mon Sep 01 01:48:34 2025'"
      ],
      "text/plain": [
       "[1] \"Mon Sep 01 01:48:34 2025\""
      ]
     },
     "metadata": {},
     "output_type": "display_data"
    }
   ],
   "source": [
    "format(Sys.time(), \"%a %b %d %X %Y\")"
   ]
  },
  {
   "cell_type": "code",
   "execution_count": 2,
   "metadata": {
    "id": "HPKFI6yP_B7s"
   },
   "outputs": [
    {
     "data": {
      "text/html": [
       "<table class=\"dataframe\">\n",
       "<caption>A matrix: 2 × 6 of type dbl</caption>\n",
       "<thead>\n",
       "\t<tr><th></th><th scope=col>used</th><th scope=col>(Mb)</th><th scope=col>gc trigger</th><th scope=col>(Mb)</th><th scope=col>max used</th><th scope=col>(Mb)</th></tr>\n",
       "</thead>\n",
       "<tbody>\n",
       "\t<tr><th scope=row>Ncells</th><td> 656930</td><td>35.1</td><td>1439371</td><td>76.9</td><td>1431350</td><td>76.5</td></tr>\n",
       "\t<tr><th scope=row>Vcells</th><td>1224983</td><td> 9.4</td><td>8388608</td><td>64.0</td><td>1924961</td><td>14.7</td></tr>\n",
       "</tbody>\n",
       "</table>\n"
      ],
      "text/latex": [
       "A matrix: 2 × 6 of type dbl\n",
       "\\begin{tabular}{r|llllll}\n",
       "  & used & (Mb) & gc trigger & (Mb) & max used & (Mb)\\\\\n",
       "\\hline\n",
       "\tNcells &  656930 & 35.1 & 1439371 & 76.9 & 1431350 & 76.5\\\\\n",
       "\tVcells & 1224983 &  9.4 & 8388608 & 64.0 & 1924961 & 14.7\\\\\n",
       "\\end{tabular}\n"
      ],
      "text/markdown": [
       "\n",
       "A matrix: 2 × 6 of type dbl\n",
       "\n",
       "| <!--/--> | used | (Mb) | gc trigger | (Mb) | max used | (Mb) |\n",
       "|---|---|---|---|---|---|---|\n",
       "| Ncells |  656930 | 35.1 | 1439371 | 76.9 | 1431350 | 76.5 |\n",
       "| Vcells | 1224983 |  9.4 | 8388608 | 64.0 | 1924961 | 14.7 |\n",
       "\n"
      ],
      "text/plain": [
       "       used    (Mb) gc trigger (Mb) max used (Mb)\n",
       "Ncells  656930 35.1 1439371    76.9 1431350  76.5\n",
       "Vcells 1224983  9.4 8388608    64.0 1924961  14.7"
      ]
     },
     "metadata": {},
     "output_type": "display_data"
    }
   ],
   "source": [
    "# limpio la memoria\n",
    "rm(list=ls(all.names=TRUE)) # remove all objects\n",
    "gc(full=TRUE, verbose=FALSE) # garbage collection"
   ]
  },
  {
   "cell_type": "markdown",
   "metadata": {
    "id": "vd4lv_Eb_B7t"
   },
   "source": [
    "**ranger** es una de las muchas librerías en lenguage R que implementa el algoritmo *Random Forest*, tiene la ventaja que corre el paralelo, utilizando todos los nucleos del procesador."
   ]
  },
  {
   "cell_type": "code",
   "execution_count": 3,
   "metadata": {
    "id": "B6X8U6XF_B7t"
   },
   "outputs": [
    {
     "name": "stderr",
     "output_type": "stream",
     "text": [
      "Loading required package: data.table\n",
      "\n",
      "Loading required package: rpart\n",
      "\n",
      "Loading required package: parallel\n",
      "\n",
      "Loading required package: primes\n",
      "\n",
      "Loading required package: rlist\n",
      "\n",
      "Loading required package: ranger\n",
      "\n",
      "Loading required package: randomForest\n",
      "\n",
      "randomForest 4.7-1.2\n",
      "\n",
      "Type rfNews() to see new features/changes/bug fixes.\n",
      "\n",
      "\n",
      "Attaching package: ‘randomForest’\n",
      "\n",
      "\n",
      "The following object is masked from ‘package:ranger’:\n",
      "\n",
      "    importance\n",
      "\n",
      "\n",
      "Loading required package: DiceKriging\n",
      "\n",
      "Loading required package: mlrMBO\n",
      "\n",
      "Loading required package: mlr\n",
      "\n",
      "Loading required package: ParamHelpers\n",
      "\n",
      "Loading required package: smoof\n",
      "\n",
      "Loading required package: checkmate\n",
      "\n",
      "\n",
      "Attaching package: ‘checkmate’\n",
      "\n",
      "\n",
      "The following object is masked from ‘package:DiceKriging’:\n",
      "\n",
      "    checkNames\n",
      "\n",
      "\n"
     ]
    }
   ],
   "source": [
    "# cargo las librerias que necesito\n",
    "require(\"data.table\")\n",
    "require(\"rpart\")\n",
    "require(\"parallel\")\n",
    "\n",
    "if( !require(\"primes\") ) install.packages(\"primes\")\n",
    "require(\"primes\")\n",
    "\n",
    "if( !require(\"rlist\") ) install.packages(\"rlist\")\n",
    "require(\"rlist\")\n",
    "\n",
    "# ranger se usa para procesar\n",
    "if( !require(\"ranger\") ) install.packages(\"ranger\")\n",
    "require(\"ranger\")\n",
    "\n",
    "# randomForest  solo se usa para imputar nulos\n",
    "if( !require(\"randomForest\") ) install.packages(\"randomForest\")\n",
    "require(\"randomForest\")\n",
    "\n",
    "\n",
    "if( !require(\"DiceKriging\") ) install.packages(\"DiceKriging\")\n",
    "require(\"DiceKriging\")\n",
    "\n",
    "if( !require(\"mlrMBO\") ) install.packages(\"mlrMBO\")\n",
    "require(\"mlrMBO\")\n"
   ]
  },
  {
   "cell_type": "markdown",
   "metadata": {
    "id": "_qZHeAHdCJQ2"
   },
   "source": [
    "Aqui debe cargar SU semilla primigenia y"
   ]
  },
  {
   "cell_type": "code",
   "execution_count": 4,
   "metadata": {
    "id": "2y3Ai8F6CJQ2"
   },
   "outputs": [],
   "source": [
    "PARAM <- list()\n",
    "PARAM$experimento <- 450\n",
    "PARAM$semilla_primigenia <- 100109\n",
    "\n",
    "PARAM$hyperparametertuning$iteraciones <- 100\n",
    "PARAM$hyperparametertuning$xval_folds <- 5\n",
    "PARAM$hyperparametertuning$POS_ganancia <- 117000\n",
    "PARAM$hyperparametertuning$NEG_ganancia <- -3000\n",
    "\n",
    "# Estructura que define los hiperparámetros y sus rangos\n",
    "#  la letra L al final significa ENTERO\n",
    "# max.depth 0 significa profundidad infinita\n",
    "PARAM$hyperparametertuning$hs <- makeParamSet(\n",
    "  makeIntegerParam(\"num.trees\", lower= 20L, upper= 500L),\n",
    "  makeIntegerParam(\"max.depth\", lower= 1L, upper= 30L),\n",
    "  makeIntegerParam(\"min.node.size\", lower= 1L, upper= 1000L),\n",
    "  makeIntegerParam(\"mtry\", lower= 2L, upper= 50L)\n",
    ")"
   ]
  },
  {
   "cell_type": "code",
   "execution_count": 5,
   "metadata": {
    "id": "P8YNRVVbCvQT"
   },
   "outputs": [],
   "source": [
    "# graba a un archivo los componentes de lista\n",
    "# para el primer registro, escribe antes los titulos\n",
    "\n",
    "loguear <- function(\n",
    "    reg, arch= NA, folder= \"./work/\",\n",
    "    ext= \".txt\", verbose= TRUE) {\n",
    "\n",
    "  archivo <- arch\n",
    "  if (is.na(arch)) archivo <- paste0(folder, substitute(reg), ext)\n",
    "\n",
    "  if (!file.exists(archivo)) # Escribo los titulos\n",
    "    {\n",
    "      linea <- paste0(\n",
    "        \"fecha\\t\",\n",
    "        paste(list.names(reg), collapse= \"\\t\"), \"\\n\"\n",
    "      )\n",
    "\n",
    "      cat(linea, file= archivo)\n",
    "    }\n",
    "\n",
    "  linea <- paste0(\n",
    "    format(Sys.time(), \"%Y%m%d %H%M%S\"), \"\\t\", # la fecha y hora\n",
    "    gsub(\", \", \"\\t\", toString(reg)), \"\\n\"\n",
    "  )\n",
    "\n",
    "  cat(linea, file= archivo, append= TRUE) # grabo al archivo\n",
    "\n",
    "  if (verbose) cat(linea) # imprimo por pantalla\n",
    "}\n"
   ]
  },
  {
   "cell_type": "code",
   "execution_count": 6,
   "metadata": {
    "id": "NnPKiCHuCwVo"
   },
   "outputs": [],
   "source": [
    "# particionar agrega una columna llamada fold a un dataset\n",
    "#  que consiste en una particion estratificada segun agrupa\n",
    "# particionar( data=dataset, division=c(70,30),\n",
    "#  agrupa=clase_ternaria, seed=semilla)   crea una particion 70, 30\n",
    "# particionar( data=dataset, division=c(1,1,1,1,1),\n",
    "#   agrupa=clase_ternaria, seed=semilla)   divide el dataset en 5 particiones\n",
    "\n",
    "particionar <- function(\n",
    "    data, division, agrupa= \"\",\n",
    "    campo= \"fold\", start= 1, seed= NA) {\n",
    "\n",
    "  if (!is.na(seed)) set.seed(seed)\n",
    "\n",
    "  bloque <- unlist(mapply(function(x, y) {\n",
    "    rep(y, x)\n",
    "  }, division, seq(from= start, length.out= length(division))))\n",
    "\n",
    "  data[, (campo) := sample(rep(bloque, ceiling(.N / length(bloque))))[1:.N],\n",
    "    by= agrupa\n",
    "  ]\n",
    "}\n"
   ]
  },
  {
   "cell_type": "code",
   "execution_count": 7,
   "metadata": {
    "id": "kZSD7pUUCy58"
   },
   "outputs": [],
   "source": [
    "# es un paso del Cross Validation\n",
    "# utiliza el fold  fold_test para testear y el resto para entrenar\n",
    "\n",
    "ranger_Simple <- function(fold_test, pdata, param) {\n",
    "  # genero el modelo\n",
    "\n",
    "  set.seed(PARAM$semillas[2])\n",
    "\n",
    "  modelo <- ranger(\n",
    "    formula= \"clase_binaria ~ .\",\n",
    "    data= pdata[fold != fold_test],\n",
    "    probability= TRUE, # para que devuelva las probabilidades\n",
    "    num.trees= param$num.trees,\n",
    "    mtry= param$mtry,\n",
    "    min.node.size= param$min.node.size,\n",
    "    max.depth= param$max.depth\n",
    "  )\n",
    "\n",
    "  prediccion <- predict(modelo, pdata[fold == fold_test])\n",
    "\n",
    "  ganancia_testing <- pdata[\n",
    "    fold == fold_test,\n",
    "    sum((prediccion$predictions[, \"POS\"] > 1 / 40) *\n",
    "      ifelse(clase_binaria == \"POS\",\n",
    "        PARAM$hyperparametertuning$POS_ganancia,\n",
    "        PARAM$hyperparametertuning$NEG_ganancia\n",
    "      ))\n",
    "  ]\n",
    "\n",
    "  return(ganancia_testing)\n",
    "}\n"
   ]
  },
  {
   "cell_type": "code",
   "execution_count": 8,
   "metadata": {
    "id": "ca7cVnUJC2Yz"
   },
   "outputs": [],
   "source": [
    "# realiza Cross Validation, promediando las ganancias de los folds de testing\n",
    "\n",
    "ranger_CrossValidation <- function(\n",
    "    data, param,\n",
    "    pcampos_buenos, qfolds, pagrupa, semilla) {\n",
    "\n",
    "  divi <- rep(1, qfolds)\n",
    "  particionar(data, divi, seed= semilla, agrupa= pagrupa)\n",
    "\n",
    "  ganancias <- mcmapply(ranger_Simple,\n",
    "    seq(qfolds), # 1 2 3 4 5\n",
    "    MoreArgs= list(data, param),\n",
    "    SIMPLIFY= FALSE,\n",
    "    mc.cores= 1\n",
    "  ) # dejar esto en  1, porque ranger ya corre en paralelo\n",
    "\n",
    "  data[, fold := NULL] # elimino el campo fold\n",
    "\n",
    "  # devuelvo la ganancia promedio normalizada\n",
    "  ganancia_promedio <- mean(unlist(ganancias))\n",
    "  ganancia_promedio_normalizada <- ganancia_promedio * qfolds\n",
    "\n",
    "  return(ganancia_promedio_normalizada)\n",
    "}"
   ]
  },
  {
   "cell_type": "code",
   "execution_count": 9,
   "metadata": {
    "id": "ZXNGJGOiC5lT"
   },
   "outputs": [],
   "source": [
    "# esta funcion solo puede recibir los parametros que se estan optimizando\n",
    "# el resto de los parametros se pasan como variables globales\n",
    "\n",
    "EstimarGanancia_ranger <- function(x) {\n",
    "  GLOBAL_iteracion <<- GLOBAL_iteracion + 1\n",
    "\n",
    "  xval_folds <- PARAM$hyperparametertuning$xval_folds\n",
    "\n",
    "  ganancia <- ranger_CrossValidation(dataset,\n",
    "    param= x,\n",
    "    qfolds= xval_folds,\n",
    "    pagrupa= \"clase_binaria\",\n",
    "    semilla= PARAM$semillas[1]\n",
    "  )\n",
    "\n",
    "  # logueo\n",
    "  xx <- x\n",
    "  xx$xval_folds <- xval_folds\n",
    "  xx$ganancia <- ganancia\n",
    "  xx$iteracion <- GLOBAL_iteracion\n",
    "  loguear(xx, arch= klog)\n",
    "\n",
    "  # si es ganancia superadora la almaceno en mejor\n",
    "  if( ganancia > GLOBAL_mejor ) {\n",
    "    GLOBAL_mejor <<- ganancia\n",
    "    loguear(xx, arch= klog_mejor)\n",
    "  }\n",
    "\n",
    "\n",
    "  return(ganancia)\n",
    "}\n"
   ]
  },
  {
   "cell_type": "markdown",
   "metadata": {
    "id": "P7Pw1KLeE3UH"
   },
   "source": [
    "aqui se inicia el programa"
   ]
  },
  {
   "cell_type": "code",
   "execution_count": 10,
   "metadata": {
    "id": "w1lb19whCJQ3"
   },
   "outputs": [],
   "source": [
    "# carpeta de trabajo\n",
    "setwd(\"/content/buckets/b1/exp\")\n",
    "experimento_folder <- paste0(\"HT\", PARAM$experimento)\n",
    "dir.create(experimento_folder, showWarnings=FALSE)\n",
    "setwd( paste0(\"/content/buckets/b1/exp/\", experimento_folder ))"
   ]
  },
  {
   "cell_type": "code",
   "execution_count": 11,
   "metadata": {
    "id": "fbLF3Vr0DAeJ"
   },
   "outputs": [],
   "source": [
    "# genero numeros primos\n",
    "primos <- generate_primes(min= 100000, max= 1000000)\n",
    "set.seed(PARAM$semilla_primigenia) # inicializo\n",
    "# me quedo con PARAM$qsemillas   semillas\n",
    "PARAM$semillas <- sample(primos, 2 )\n"
   ]
  },
  {
   "cell_type": "code",
   "execution_count": 12,
   "metadata": {
    "id": "xcOJpoFvCJQ3"
   },
   "outputs": [],
   "source": [
    "# lectura del dataset\n",
    "dataset <- fread(\"/content/datasets/dataset_pequeno.csv\", stringsAsFactors= TRUE)"
   ]
  },
  {
   "cell_type": "code",
   "execution_count": 13,
   "metadata": {
    "id": "JorOk_A8EhSy"
   },
   "outputs": [],
   "source": [
    "dataset <- dataset[foto_mes %in% c(202107)]"
   ]
  },
  {
   "cell_type": "code",
   "execution_count": 14,
   "metadata": {
    "id": "lVbXD_l7CJQ4"
   },
   "outputs": [],
   "source": [
    "#  estas dos lineas estan relacionadas con el Data Drifting\n",
    "# asigno un valor muy negativo\n",
    "\n",
    "if( \"Master_Finiciomora\" %in% colnames(dataset) )\n",
    "  dataset[ is.na(Master_Finiciomora) , Master_Finiciomora := -999 ]\n",
    "\n",
    "if( \"Visa_Finiciomora\" %in% colnames(dataset) )\n",
    "  dataset[ is.na(Visa_Finiciomora) , Visa_Finiciomora :=  -999 ]\n"
   ]
  },
  {
   "cell_type": "code",
   "execution_count": 15,
   "metadata": {
    "id": "a82SxgKnCJQ5"
   },
   "outputs": [],
   "source": [
    "set.seed( PARAM$semilla_primigenia ) # Establezco la semilla aleatoria"
   ]
  },
  {
   "cell_type": "code",
   "execution_count": 16,
   "metadata": {
    "id": "CsRYGGeN-1ID"
   },
   "outputs": [],
   "source": [
    "# en estos archivos quedan los resultados\n",
    "kbayesiana <- paste0(\"HT\", PARAM$experimento, \".RDATA\")\n",
    "klog <- paste0(\"HT\", PARAM$experimento, \".txt\")\n",
    "klog_mejor <- paste0(\"HT\", PARAM$experimento, \"_mejor.txt\")\n",
    "\n",
    "GLOBAL_iteracion <- 0 # inicializo la variable global\n",
    "GLOBAL_mejor <- -Inf\n",
    "\n",
    "# si ya existe el archivo log, traigo hasta donde llegue\n",
    "if (file.exists(klog)) {\n",
    "  tabla_log <- fread(klog)\n",
    "  GLOBAL_iteracion <- nrow(tabla_log)\n",
    "}\n"
   ]
  },
  {
   "cell_type": "code",
   "execution_count": 17,
   "metadata": {
    "id": "7G7O-ak-DPPV"
   },
   "outputs": [],
   "source": [
    "# paso a trabajar con clase binaria POS={BAJA+2}   NEG={BAJA+1, CONTINUA}\n",
    "dataset[, clase_binaria :=\n",
    "  as.factor(ifelse(clase_ternaria == \"BAJA+2\", \"POS\", \"NEG\"))]\n",
    "\n",
    "dataset[, clase_ternaria := NULL] # elimino la clase_ternaria, ya no la necesito\n"
   ]
  },
  {
   "cell_type": "code",
   "execution_count": 18,
   "metadata": {
    "id": "tJCnOoiuDV1_"
   },
   "outputs": [],
   "source": [
    "# Ranger NO acepta valores nulos\n",
    "# Leo Breiman, ¿por que le temias a los nulos?\n",
    "# imputo los nulos, ya que ranger no acepta nulos\n",
    "\n",
    "dataset <- na.roughfix(dataset)"
   ]
  },
  {
   "cell_type": "code",
   "execution_count": 19,
   "metadata": {
    "id": "2SOVysbADy9F"
   },
   "outputs": [],
   "source": [
    "# Aqui comienza la configuracion de la Bayesian Optimization\n",
    "\n",
    "configureMlr(show.learner.output = FALSE)\n",
    "\n",
    "funcion_optimizar <- EstimarGanancia_ranger\n",
    "\n",
    "# configuro la busqueda bayesiana,  los hiperparametros que se van a optimizar\n",
    "# por favor, no desesperarse por lo complejo\n",
    "obj.fun <- makeSingleObjectiveFunction(\n",
    "  fn= funcion_optimizar,\n",
    "  minimize= FALSE, # estoy Maximizando la ganancia\n",
    "  noisy= TRUE,\n",
    "  par.set= PARAM$hyperparametertuning$hs,\n",
    "  has.simple.signature= FALSE\n",
    ")\n",
    "\n",
    "ctrl <- makeMBOControl(save.on.disk.at.time= 600, save.file.path= kbayesiana)\n",
    "\n",
    "ctrl <- setMBOControlTermination(\n",
    "  ctrl,\n",
    "  iters= PARAM$hyperparametertuning$iteraciones\n",
    ")\n",
    "\n",
    "ctrl <- setMBOControlInfill(ctrl, crit= makeMBOInfillCritEI())\n",
    "\n",
    "surr.km <- makeLearner(\n",
    "  \"regr.km\",\n",
    "  predict.type= \"se\",\n",
    "  covtype= \"matern3_2\",\n",
    "  control= list(trace= TRUE)\n",
    ")\n"
   ]
  },
  {
   "cell_type": "code",
   "execution_count": null,
   "metadata": {
    "id": "TissqCCHD1uZ"
   },
   "outputs": [
    {
     "name": "stdout",
     "output_type": "stream",
     "text": [
      "Growing trees.. Progress: 43%. Estimated remaining time: 40 seconds.\n",
      "Growing trees.. Progress: 86%. Estimated remaining time: 10 seconds.\n",
      "Growing trees.. Progress: 42%. Estimated remaining time: 43 seconds.\n",
      "Growing trees.. Progress: 84%. Estimated remaining time: 11 seconds.\n",
      "Growing trees.. Progress: 44%. Estimated remaining time: 38 seconds.\n",
      "Growing trees.. Progress: 89%. Estimated remaining time: 7 seconds.\n",
      "Growing trees.. Progress: 43%. Estimated remaining time: 40 seconds.\n",
      "Growing trees.. Progress: 87%. Estimated remaining time: 9 seconds.\n",
      "Growing trees.. Progress: 43%. Estimated remaining time: 40 seconds.\n",
      "Growing trees.. Progress: 88%. Estimated remaining time: 8 seconds.\n",
      "20250901 015556\t187\t11\t1000\t23\t5\t54723000\t104\n",
      "20250901 015558\t187\t11\t1000\t23\t5\t54723000\t104\n"
     ]
    },
    {
     "name": "stderr",
     "output_type": "stream",
     "text": [
      "[mbo] 87: num.trees=187; max.depth=11; min.node.size=1000; mtry=23 : y = 5.47e+07 : 397.3 secs : infill_ei\n",
      "\n",
      "Saved the current state after iteration 88 in the file HT450.RDATA.\n",
      "\n"
     ]
    },
    {
     "name": "stdout",
     "output_type": "stream",
     "text": [
      "Growing trees.. Progress: 14%. Estimated remaining time: 3 minutes, 11 seconds.\n",
      "Growing trees.. Progress: 28%. Estimated remaining time: 2 minutes, 40 seconds.\n",
      "Growing trees.. Progress: 42%. Estimated remaining time: 2 minutes, 10 seconds.\n",
      "Growing trees.. Progress: 56%. Estimated remaining time: 1 minute, 39 seconds.\n",
      "Growing trees.. Progress: 70%. Estimated remaining time: 1 minute, 8 seconds.\n",
      "Growing trees.. Progress: 84%. Estimated remaining time: 36 seconds.\n",
      "Growing trees.. Progress: 98%. Estimated remaining time: 5 seconds.\n",
      "Growing trees.. Progress: 13%. Estimated remaining time: 3 minutes, 26 seconds.\n",
      "Growing trees.. Progress: 27%. Estimated remaining time: 2 minutes, 50 seconds.\n",
      "Growing trees.. Progress: 40%. Estimated remaining time: 2 minutes, 19 seconds.\n",
      "Growing trees.. Progress: 53%. Estimated remaining time: 1 minute, 48 seconds.\n",
      "Growing trees.. Progress: 67%. Estimated remaining time: 1 minute, 15 seconds.\n",
      "Growing trees.. Progress: 81%. Estimated remaining time: 43 seconds.\n",
      "Growing trees.. Progress: 95%. Estimated remaining time: 11 seconds.\n",
      "Growing trees.. Progress: 14%. Estimated remaining time: 3 minutes, 11 seconds.\n",
      "Growing trees.. Progress: 28%. Estimated remaining time: 2 minutes, 42 seconds.\n",
      "Growing trees.. Progress: 42%. Estimated remaining time: 2 minutes, 10 seconds.\n",
      "Growing trees.. Progress: 56%. Estimated remaining time: 1 minute, 37 seconds.\n",
      "Growing trees.. Progress: 70%. Estimated remaining time: 1 minute, 6 seconds.\n",
      "Growing trees.. Progress: 85%. Estimated remaining time: 33 seconds.\n",
      "Growing trees.. Progress: 99%. Estimated remaining time: 2 seconds.\n",
      "Growing trees.. Progress: 14%. Estimated remaining time: 3 minutes, 11 seconds.\n",
      "Growing trees.. Progress: 28%. Estimated remaining time: 2 minutes, 40 seconds.\n",
      "Growing trees.. Progress: 42%. Estimated remaining time: 2 minutes, 9 seconds.\n",
      "Growing trees.. Progress: 56%. Estimated remaining time: 1 minute, 36 seconds.\n",
      "Growing trees.. Progress: 70%. Estimated remaining time: 1 minute, 6 seconds.\n",
      "Growing trees.. Progress: 84%. Estimated remaining time: 35 seconds.\n",
      "Growing trees.. Progress: 98%. Estimated remaining time: 4 seconds.\n",
      "Growing trees.. Progress: 14%. Estimated remaining time: 3 minutes, 16 seconds.\n",
      "Growing trees.. Progress: 28%. Estimated remaining time: 2 minutes, 42 seconds.\n",
      "Growing trees.. Progress: 42%. Estimated remaining time: 2 minutes, 11 seconds.\n",
      "Growing trees.. Progress: 55%. Estimated remaining time: 1 minute, 40 seconds.\n",
      "Growing trees.. Progress: 69%. Estimated remaining time: 1 minute, 8 seconds.\n",
      "Growing trees.. Progress: 83%. Estimated remaining time: 37 seconds.\n",
      "Growing trees.. Progress: 97%. Estimated remaining time: 6 seconds.\n",
      "20250901 021539\t330\t10\t124\t47\t5\t55578000\t105\n",
      "20250901 021541\t330\t10\t124\t47\t5\t55578000\t105\n"
     ]
    },
    {
     "name": "stderr",
     "output_type": "stream",
     "text": [
      "[mbo] 88: num.trees=330; max.depth=10; min.node.size=124; mtry=47 : y = 5.56e+07 : 1175.0 secs : infill_ei\n",
      "\n",
      "Saved the current state after iteration 89 in the file HT450.RDATA.\n",
      "\n"
     ]
    },
    {
     "name": "stdout",
     "output_type": "stream",
     "text": [
      "Growing trees.. Progress: 57%. Estimated remaining time: 23 seconds.\n",
      "Growing trees.. Progress: 57%. Estimated remaining time: 23 seconds.\n",
      "Growing trees.. Progress: 58%. Estimated remaining time: 22 seconds.\n",
      "Growing trees.. Progress: 56%. Estimated remaining time: 24 seconds.\n",
      "Growing trees.. Progress: 56%. Estimated remaining time: 24 seconds.\n",
      "20250901 022103\t203\t16\t553\t11\t5\t54786000\t106\n"
     ]
    },
    {
     "name": "stderr",
     "output_type": "stream",
     "text": [
      "[mbo] 89: num.trees=203; max.depth=16; min.node.size=553; mtry=11 : y = 5.48e+07 : 314.3 secs : infill_ei\n",
      "\n",
      "Warning message in generateDesign(control$infill.opt.focussearch.points, ps.local, :\n",
      "“generateDesign could only produce 504 points instead of 1000!”\n"
     ]
    },
    {
     "name": "stdout",
     "output_type": "stream",
     "text": [
      "Growing trees.. Progress: 18%. Estimated remaining time: 2 minutes, 21 seconds.\n",
      "Growing trees.. Progress: 36%. Estimated remaining time: 1 minute, 51 seconds.\n",
      "Growing trees.. Progress: 54%. Estimated remaining time: 1 minute, 18 seconds.\n",
      "Growing trees.. Progress: 73%. Estimated remaining time: 46 seconds.\n",
      "Growing trees.. Progress: 90%. Estimated remaining time: 16 seconds.\n",
      "Growing trees.. Progress: 18%. Estimated remaining time: 2 minutes, 19 seconds.\n",
      "Growing trees.. Progress: 37%. Estimated remaining time: 1 minute, 47 seconds.\n",
      "Growing trees.. Progress: 55%. Estimated remaining time: 1 minute, 17 seconds.\n",
      "Growing trees.. Progress: 73%. Estimated remaining time: 45 seconds.\n",
      "Growing trees.. Progress: 91%. Estimated remaining time: 14 seconds.\n",
      "Growing trees.. Progress: 18%. Estimated remaining time: 2 minutes, 19 seconds.\n",
      "Growing trees.. Progress: 37%. Estimated remaining time: 1 minute, 46 seconds.\n",
      "Growing trees.. Progress: 56%. Estimated remaining time: 1 minute, 15 seconds.\n",
      "Growing trees.. Progress: 74%. Estimated remaining time: 43 seconds.\n",
      "Growing trees.. Progress: 93%. Estimated remaining time: 11 seconds.\n",
      "Growing trees.. Progress: 18%. Estimated remaining time: 2 minutes, 19 seconds.\n",
      "Growing trees.. Progress: 37%. Estimated remaining time: 1 minute, 46 seconds.\n",
      "Growing trees.. Progress: 55%. Estimated remaining time: 1 minute, 15 seconds.\n",
      "Growing trees.. Progress: 73%. Estimated remaining time: 44 seconds.\n",
      "Growing trees.. Progress: 92%. Estimated remaining time: 13 seconds.\n",
      "Growing trees.. Progress: 18%. Estimated remaining time: 2 minutes, 17 seconds.\n",
      "Growing trees.. Progress: 37%. Estimated remaining time: 1 minute, 45 seconds.\n",
      "Growing trees.. Progress: 56%. Estimated remaining time: 1 minute, 13 seconds.\n",
      "Growing trees.. Progress: 75%. Estimated remaining time: 42 seconds.\n",
      "Growing trees.. Progress: 93%. Estimated remaining time: 10 seconds.\n",
      "20250901 023612\t500\t9\t245\t25\t5\t55413000\t107\n"
     ]
    },
    {
     "name": "stderr",
     "output_type": "stream",
     "text": [
      "[mbo] 90: num.trees=500; max.depth=9; min.node.size=245; mtry=25 : y = 5.54e+07 : 908.6 secs : infill_ei\n",
      "\n",
      "Saved the current state after iteration 91 in the file HT450.RDATA.\n",
      "\n"
     ]
    },
    {
     "name": "stdout",
     "output_type": "stream",
     "text": [
      "Growing trees.. Progress: 14%. Estimated remaining time: 3 minutes, 7 seconds.\n",
      "Growing trees.. Progress: 28%. Estimated remaining time: 2 minutes, 36 seconds.\n",
      "Growing trees.. Progress: 43%. Estimated remaining time: 2 minutes, 5 seconds.\n",
      "Growing trees.. Progress: 57%. Estimated remaining time: 1 minute, 34 seconds.\n",
      "Growing trees.. Progress: 72%. Estimated remaining time: 1 minute, 1 seconds.\n",
      "Growing trees.. Progress: 86%. Estimated remaining time: 30 seconds.\n",
      "Growing trees.. Progress: 100%. Estimated remaining time: 0 seconds.\n",
      "Growing trees.. Progress: 14%. Estimated remaining time: 3 minutes, 12 seconds.\n",
      "Growing trees.. Progress: 28%. Estimated remaining time: 2 minutes, 38 seconds.\n",
      "Growing trees.. Progress: 43%. Estimated remaining time: 2 minutes, 6 seconds.\n",
      "Growing trees.. Progress: 57%. Estimated remaining time: 1 minute, 35 seconds.\n",
      "Growing trees.. Progress: 71%. Estimated remaining time: 1 minute, 3 seconds.\n",
      "Growing trees.. Progress: 85%. Estimated remaining time: 32 seconds.\n",
      "Growing trees.. Progress: 99%. Estimated remaining time: 1 seconds.\n",
      "Growing trees.. Progress: 14%. Estimated remaining time: 3 minutes, 7 seconds.\n",
      "Growing trees.. Progress: 29%. Estimated remaining time: 2 minutes, 34 seconds.\n",
      "Growing trees.. Progress: 43%. Estimated remaining time: 2 minutes, 2 seconds.\n",
      "Growing trees.. Progress: 57%. Estimated remaining time: 1 minute, 32 seconds.\n",
      "Growing trees.. Progress: 72%. Estimated remaining time: 59 seconds.\n",
      "Growing trees.. Progress: 87%. Estimated remaining time: 27 seconds.\n",
      "Growing trees.. Progress: 15%. Estimated remaining time: 3 minutes, 2 seconds.\n",
      "Growing trees.. Progress: 29%. Estimated remaining time: 2 minutes, 31 seconds.\n",
      "Growing trees.. Progress: 44%. Estimated remaining time: 2 minutes, 0 seconds.\n",
      "Growing trees.. Progress: 59%. Estimated remaining time: 1 minute, 28 seconds.\n",
      "Growing trees.. Progress: 73%. Estimated remaining time: 57 seconds.\n",
      "Growing trees.. Progress: 88%. Estimated remaining time: 26 seconds.\n",
      "Growing trees.. Progress: 15%. Estimated remaining time: 3 minutes, 2 seconds.\n",
      "Growing trees.. Progress: 29%. Estimated remaining time: 2 minutes, 34 seconds.\n",
      "Growing trees.. Progress: 44%. Estimated remaining time: 2 minutes, 0 seconds.\n",
      "Growing trees.. Progress: 58%. Estimated remaining time: 1 minute, 29 seconds.\n",
      "Growing trees.. Progress: 73%. Estimated remaining time: 59 seconds.\n",
      "Growing trees.. Progress: 87%. Estimated remaining time: 27 seconds.\n",
      "20250901 025518\t324\t12\t225\t37\t5\t54492000\t108\n"
     ]
    },
    {
     "name": "stderr",
     "output_type": "stream",
     "text": [
      "[mbo] 91: num.trees=324; max.depth=12; min.node.size=225; mtry=37 : y = 5.45e+07 : 1138.8 secs : infill_ei\n",
      "\n",
      "Saved the current state after iteration 92 in the file HT450.RDATA.\n",
      "\n"
     ]
    }
   ],
   "source": [
    "# inicio la optimizacion bayesiana\n",
    "\n",
    "if (!file.exists(kbayesiana)) {\n",
    "  run <- mbo(obj.fun, learner= surr.km, control= ctrl)\n",
    "} else {\n",
    "  run <- mboContinue(kbayesiana)\n",
    "} # retomo en caso que ya exista"
   ]
  },
  {
   "cell_type": "code",
   "execution_count": 21,
   "metadata": {
    "id": "eP-AGz8RQgK0"
   },
   "outputs": [
    {
     "data": {
      "text/html": [
       "<table class=\"dataframe\">\n",
       "<caption>A data.table: 117 × 8</caption>\n",
       "<thead>\n",
       "\t<tr><th scope=col>fecha</th><th scope=col>num.trees</th><th scope=col>max.depth</th><th scope=col>min.node.size</th><th scope=col>mtry</th><th scope=col>xval_folds</th><th scope=col>ganancia</th><th scope=col>iteracion</th></tr>\n",
       "\t<tr><th scope=col>&lt;chr&gt;</th><th scope=col>&lt;int&gt;</th><th scope=col>&lt;int&gt;</th><th scope=col>&lt;int&gt;</th><th scope=col>&lt;int&gt;</th><th scope=col>&lt;int&gt;</th><th scope=col>&lt;int&gt;</th><th scope=col>&lt;int&gt;</th></tr>\n",
       "</thead>\n",
       "<tbody>\n",
       "\t<tr><td>20250831 123229</td><td>332</td><td>12</td><td> 119</td><td>36</td><td>5</td><td>55674000</td><td> 64</td></tr>\n",
       "\t<tr><td>20250901 021539</td><td>330</td><td>10</td><td> 124</td><td>47</td><td>5</td><td>55578000</td><td>105</td></tr>\n",
       "\t<tr><td>20250831 233903</td><td>319</td><td>13</td><td> 363</td><td>25</td><td>5</td><td>55479000</td><td> 99</td></tr>\n",
       "\t<tr><td>20250831 124617</td><td>325</td><td>13</td><td>  64</td><td>24</td><td>5</td><td>55455000</td><td> 65</td></tr>\n",
       "\t<tr><td>20250901 023612</td><td>500</td><td> 9</td><td> 245</td><td>25</td><td>5</td><td>55413000</td><td>107</td></tr>\n",
       "\t<tr><td>20250830 212959</td><td>500</td><td>12</td><td> 561</td><td>38</td><td>5</td><td>55404000</td><td> 21</td></tr>\n",
       "\t<tr><td>20250831 140139</td><td>334</td><td>11</td><td> 112</td><td>50</td><td>5</td><td>55350000</td><td> 69</td></tr>\n",
       "\t<tr><td>20250831 225426</td><td>500</td><td>13</td><td> 343</td><td>36</td><td>5</td><td>55323000</td><td> 98</td></tr>\n",
       "\t<tr><td>20250831 160900</td><td>314</td><td>12</td><td>   7</td><td>48</td><td>5</td><td>55302000</td><td> 75</td></tr>\n",
       "\t<tr><td>20250831 185317</td><td>354</td><td>10</td><td>  66</td><td>24</td><td>5</td><td>55284000</td><td> 85</td></tr>\n",
       "\t<tr><td>20250831 133826</td><td>338</td><td>10</td><td>  24</td><td>37</td><td>5</td><td>55209000</td><td> 68</td></tr>\n",
       "\t<tr><td>20250831 200154</td><td>500</td><td>10</td><td> 137</td><td>36</td><td>5</td><td>55206000</td><td> 89</td></tr>\n",
       "\t<tr><td>20250831 154337</td><td>334</td><td>11</td><td> 237</td><td>37</td><td>5</td><td>55203000</td><td> 74</td></tr>\n",
       "\t<tr><td>20250831 053719</td><td>329</td><td>30</td><td> 727</td><td>20</td><td>5</td><td>55188000</td><td> 42</td></tr>\n",
       "\t<tr><td>20250831 055039</td><td>277</td><td>27</td><td> 670</td><td>18</td><td>5</td><td>55167000</td><td> 43</td></tr>\n",
       "\t<tr><td>20250831 130009</td><td>300</td><td>12</td><td> 138</td><td>29</td><td>5</td><td>55143000</td><td> 66</td></tr>\n",
       "\t<tr><td>20250901 041827</td><td>343</td><td>14</td><td> 366</td><td>10</td><td>5</td><td>55128000</td><td>113</td></tr>\n",
       "\t<tr><td>20250831 012910</td><td>500</td><td>13</td><td> 380</td><td>29</td><td>5</td><td>55110000</td><td> 31</td></tr>\n",
       "\t<tr><td>20250831 132240</td><td>351</td><td>13</td><td> 127</td><td>38</td><td>5</td><td>55101000</td><td> 67</td></tr>\n",
       "\t<tr><td>20250901 043155</td><td>488</td><td> 9</td><td> 346</td><td>23</td><td>5</td><td>55101000</td><td>114</td></tr>\n",
       "\t<tr><td>20250901 033925</td><td>500</td><td>10</td><td> 271</td><td>45</td><td>5</td><td>55086000</td><td>110</td></tr>\n",
       "\t<tr><td>20250830 225428</td><td>306</td><td>17</td><td>1000</td><td>43</td><td>5</td><td>55053000</td><td> 23</td></tr>\n",
       "\t<tr><td>20250831 235925</td><td>500</td><td>12</td><td> 117</td><td>24</td><td>5</td><td>54993000</td><td>100</td></tr>\n",
       "\t<tr><td>20250831 110221</td><td>291</td><td>24</td><td> 516</td><td>16</td><td>5</td><td>54969000</td><td> 58</td></tr>\n",
       "\t<tr><td>20250831 182507</td><td>173</td><td> 9</td><td> 717</td><td>25</td><td>5</td><td>54966000</td><td> 83</td></tr>\n",
       "\t<tr><td>20250831 220302</td><td>420</td><td>11</td><td>   1</td><td>48</td><td>5</td><td>54945000</td><td> 96</td></tr>\n",
       "\t<tr><td>20250901 041046</td><td>220</td><td>13</td><td> 652</td><td>38</td><td>5</td><td>54945000</td><td>112</td></tr>\n",
       "\t<tr><td>20250831 071150</td><td>500</td><td>12</td><td> 416</td><td>43</td><td>5</td><td>54939000</td><td> 46</td></tr>\n",
       "\t<tr><td>20250831 062950</td><td>316</td><td>28</td><td> 805</td><td>11</td><td>5</td><td>54933000</td><td> 45</td></tr>\n",
       "\t<tr><td>20250831 174920</td><td>320</td><td>11</td><td>  84</td><td>42</td><td>5</td><td>54924000</td><td> 80</td></tr>\n",
       "\t<tr><td>⋮</td><td>⋮</td><td>⋮</td><td>⋮</td><td>⋮</td><td>⋮</td><td>⋮</td><td>⋮</td></tr>\n",
       "\t<tr><td>20250831 044824</td><td>312</td><td>27</td><td>1000</td><td>50</td><td>5</td><td>53745000</td><td>38</td></tr>\n",
       "\t<tr><td>20250830 185350</td><td>381</td><td> 7</td><td> 817</td><td>42</td><td>5</td><td>53742000</td><td>12</td></tr>\n",
       "\t<tr><td>20250830 174705</td><td>431</td><td>25</td><td> 902</td><td> 6</td><td>5</td><td>53739000</td><td> 6</td></tr>\n",
       "\t<tr><td>20250831 045634</td><td>500</td><td> 6</td><td>1000</td><td>20</td><td>5</td><td>53724000</td><td>39</td></tr>\n",
       "\t<tr><td>20250831 003345</td><td>415</td><td>12</td><td> 554</td><td>31</td><td>5</td><td>53715000</td><td>29</td></tr>\n",
       "\t<tr><td>20250831 052004</td><td>203</td><td>15</td><td>1000</td><td>33</td><td>5</td><td>53715000</td><td>41</td></tr>\n",
       "\t<tr><td>20250831 193748</td><td>296</td><td>23</td><td> 448</td><td>27</td><td>5</td><td>53715000</td><td>88</td></tr>\n",
       "\t<tr><td>20250831 113851</td><td>435</td><td>30</td><td> 811</td><td>17</td><td>5</td><td>53712000</td><td>60</td></tr>\n",
       "\t<tr><td>20250830 205602</td><td>179</td><td> 9</td><td> 567</td><td>42</td><td>5</td><td>53676000</td><td>20</td></tr>\n",
       "\t<tr><td>20250831 001018</td><td>500</td><td>29</td><td>1000</td><td> 2</td><td>5</td><td>53457000</td><td>28</td></tr>\n",
       "\t<tr><td>20250831 081520</td><td>196</td><td>26</td><td> 719</td><td>13</td><td>5</td><td>53457000</td><td>50</td></tr>\n",
       "\t<tr><td>20250831 083103</td><td>319</td><td>30</td><td> 678</td><td> 2</td><td>5</td><td>53448000</td><td>52</td></tr>\n",
       "\t<tr><td>20250830 184049</td><td>145</td><td>30</td><td> 953</td><td>36</td><td>5</td><td>53442000</td><td>11</td></tr>\n",
       "\t<tr><td>20250830 232406</td><td>396</td><td>12</td><td>1000</td><td>50</td><td>5</td><td>53421000</td><td>24</td></tr>\n",
       "\t<tr><td>20250830 181557</td><td>364</td><td>20</td><td> 255</td><td>16</td><td>5</td><td>53370000</td><td> 8</td></tr>\n",
       "\t<tr><td>20250830 202439</td><td>486</td><td>20</td><td> 667</td><td>29</td><td>5</td><td>53346000</td><td>17</td></tr>\n",
       "\t<tr><td>20250831 210542</td><td>323</td><td>12</td><td>   1</td><td> 2</td><td>5</td><td>53295000</td><td>94</td></tr>\n",
       "\t<tr><td>20250831 184044</td><td>326</td><td>15</td><td>  77</td><td>23</td><td>5</td><td>53181000</td><td>84</td></tr>\n",
       "\t<tr><td>20250830 170933</td><td>319</td><td> 5</td><td> 687</td><td>29</td><td>5</td><td>53142000</td><td> 4</td></tr>\n",
       "\t<tr><td>20250831 031058</td><td>346</td><td>18</td><td> 965</td><td> 2</td><td>5</td><td>53127000</td><td>34</td></tr>\n",
       "\t<tr><td>20250831 061922</td><td>262</td><td>30</td><td> 594</td><td>36</td><td>5</td><td>52827000</td><td>44</td></tr>\n",
       "\t<tr><td>20250830 195207</td><td>206</td><td>12</td><td> 728</td><td> 3</td><td>5</td><td>52791000</td><td>16</td></tr>\n",
       "\t<tr><td>20250831 205437</td><td> 75</td><td> 7</td><td> 870</td><td>31</td><td>5</td><td>52767000</td><td>92</td></tr>\n",
       "\t<tr><td>20250830 195008</td><td>497</td><td>25</td><td> 245</td><td>40</td><td>5</td><td>51960000</td><td>15</td></tr>\n",
       "\t<tr><td>20250830 204727</td><td> 27</td><td>13</td><td> 382</td><td>29</td><td>5</td><td>51738000</td><td>19</td></tr>\n",
       "\t<tr><td>20250830 232640</td><td> 20</td><td>24</td><td>1000</td><td>46</td><td>5</td><td>50916000</td><td>25</td></tr>\n",
       "\t<tr><td>20250830 170356</td><td> 97</td><td> 4</td><td> 622</td><td>10</td><td>5</td><td>50355000</td><td> 3</td></tr>\n",
       "\t<tr><td>20250830 182817</td><td>112</td><td>28</td><td>  47</td><td>11</td><td>5</td><td>50292000</td><td>10</td></tr>\n",
       "\t<tr><td>20250830 185908</td><td> 37</td><td>16</td><td> 103</td><td>50</td><td>5</td><td>49959000</td><td>14</td></tr>\n",
       "\t<tr><td>20250830 185454</td><td>327</td><td> 1</td><td> 184</td><td>23</td><td>5</td><td>41154000</td><td>13</td></tr>\n",
       "</tbody>\n",
       "</table>\n"
      ],
      "text/latex": [
       "A data.table: 117 × 8\n",
       "\\begin{tabular}{llllllll}\n",
       " fecha & num.trees & max.depth & min.node.size & mtry & xval\\_folds & ganancia & iteracion\\\\\n",
       " <chr> & <int> & <int> & <int> & <int> & <int> & <int> & <int>\\\\\n",
       "\\hline\n",
       "\t 20250831 123229 & 332 & 12 &  119 & 36 & 5 & 55674000 &  64\\\\\n",
       "\t 20250901 021539 & 330 & 10 &  124 & 47 & 5 & 55578000 & 105\\\\\n",
       "\t 20250831 233903 & 319 & 13 &  363 & 25 & 5 & 55479000 &  99\\\\\n",
       "\t 20250831 124617 & 325 & 13 &   64 & 24 & 5 & 55455000 &  65\\\\\n",
       "\t 20250901 023612 & 500 &  9 &  245 & 25 & 5 & 55413000 & 107\\\\\n",
       "\t 20250830 212959 & 500 & 12 &  561 & 38 & 5 & 55404000 &  21\\\\\n",
       "\t 20250831 140139 & 334 & 11 &  112 & 50 & 5 & 55350000 &  69\\\\\n",
       "\t 20250831 225426 & 500 & 13 &  343 & 36 & 5 & 55323000 &  98\\\\\n",
       "\t 20250831 160900 & 314 & 12 &    7 & 48 & 5 & 55302000 &  75\\\\\n",
       "\t 20250831 185317 & 354 & 10 &   66 & 24 & 5 & 55284000 &  85\\\\\n",
       "\t 20250831 133826 & 338 & 10 &   24 & 37 & 5 & 55209000 &  68\\\\\n",
       "\t 20250831 200154 & 500 & 10 &  137 & 36 & 5 & 55206000 &  89\\\\\n",
       "\t 20250831 154337 & 334 & 11 &  237 & 37 & 5 & 55203000 &  74\\\\\n",
       "\t 20250831 053719 & 329 & 30 &  727 & 20 & 5 & 55188000 &  42\\\\\n",
       "\t 20250831 055039 & 277 & 27 &  670 & 18 & 5 & 55167000 &  43\\\\\n",
       "\t 20250831 130009 & 300 & 12 &  138 & 29 & 5 & 55143000 &  66\\\\\n",
       "\t 20250901 041827 & 343 & 14 &  366 & 10 & 5 & 55128000 & 113\\\\\n",
       "\t 20250831 012910 & 500 & 13 &  380 & 29 & 5 & 55110000 &  31\\\\\n",
       "\t 20250831 132240 & 351 & 13 &  127 & 38 & 5 & 55101000 &  67\\\\\n",
       "\t 20250901 043155 & 488 &  9 &  346 & 23 & 5 & 55101000 & 114\\\\\n",
       "\t 20250901 033925 & 500 & 10 &  271 & 45 & 5 & 55086000 & 110\\\\\n",
       "\t 20250830 225428 & 306 & 17 & 1000 & 43 & 5 & 55053000 &  23\\\\\n",
       "\t 20250831 235925 & 500 & 12 &  117 & 24 & 5 & 54993000 & 100\\\\\n",
       "\t 20250831 110221 & 291 & 24 &  516 & 16 & 5 & 54969000 &  58\\\\\n",
       "\t 20250831 182507 & 173 &  9 &  717 & 25 & 5 & 54966000 &  83\\\\\n",
       "\t 20250831 220302 & 420 & 11 &    1 & 48 & 5 & 54945000 &  96\\\\\n",
       "\t 20250901 041046 & 220 & 13 &  652 & 38 & 5 & 54945000 & 112\\\\\n",
       "\t 20250831 071150 & 500 & 12 &  416 & 43 & 5 & 54939000 &  46\\\\\n",
       "\t 20250831 062950 & 316 & 28 &  805 & 11 & 5 & 54933000 &  45\\\\\n",
       "\t 20250831 174920 & 320 & 11 &   84 & 42 & 5 & 54924000 &  80\\\\\n",
       "\t ⋮ & ⋮ & ⋮ & ⋮ & ⋮ & ⋮ & ⋮ & ⋮\\\\\n",
       "\t 20250831 044824 & 312 & 27 & 1000 & 50 & 5 & 53745000 & 38\\\\\n",
       "\t 20250830 185350 & 381 &  7 &  817 & 42 & 5 & 53742000 & 12\\\\\n",
       "\t 20250830 174705 & 431 & 25 &  902 &  6 & 5 & 53739000 &  6\\\\\n",
       "\t 20250831 045634 & 500 &  6 & 1000 & 20 & 5 & 53724000 & 39\\\\\n",
       "\t 20250831 003345 & 415 & 12 &  554 & 31 & 5 & 53715000 & 29\\\\\n",
       "\t 20250831 052004 & 203 & 15 & 1000 & 33 & 5 & 53715000 & 41\\\\\n",
       "\t 20250831 193748 & 296 & 23 &  448 & 27 & 5 & 53715000 & 88\\\\\n",
       "\t 20250831 113851 & 435 & 30 &  811 & 17 & 5 & 53712000 & 60\\\\\n",
       "\t 20250830 205602 & 179 &  9 &  567 & 42 & 5 & 53676000 & 20\\\\\n",
       "\t 20250831 001018 & 500 & 29 & 1000 &  2 & 5 & 53457000 & 28\\\\\n",
       "\t 20250831 081520 & 196 & 26 &  719 & 13 & 5 & 53457000 & 50\\\\\n",
       "\t 20250831 083103 & 319 & 30 &  678 &  2 & 5 & 53448000 & 52\\\\\n",
       "\t 20250830 184049 & 145 & 30 &  953 & 36 & 5 & 53442000 & 11\\\\\n",
       "\t 20250830 232406 & 396 & 12 & 1000 & 50 & 5 & 53421000 & 24\\\\\n",
       "\t 20250830 181557 & 364 & 20 &  255 & 16 & 5 & 53370000 &  8\\\\\n",
       "\t 20250830 202439 & 486 & 20 &  667 & 29 & 5 & 53346000 & 17\\\\\n",
       "\t 20250831 210542 & 323 & 12 &    1 &  2 & 5 & 53295000 & 94\\\\\n",
       "\t 20250831 184044 & 326 & 15 &   77 & 23 & 5 & 53181000 & 84\\\\\n",
       "\t 20250830 170933 & 319 &  5 &  687 & 29 & 5 & 53142000 &  4\\\\\n",
       "\t 20250831 031058 & 346 & 18 &  965 &  2 & 5 & 53127000 & 34\\\\\n",
       "\t 20250831 061922 & 262 & 30 &  594 & 36 & 5 & 52827000 & 44\\\\\n",
       "\t 20250830 195207 & 206 & 12 &  728 &  3 & 5 & 52791000 & 16\\\\\n",
       "\t 20250831 205437 &  75 &  7 &  870 & 31 & 5 & 52767000 & 92\\\\\n",
       "\t 20250830 195008 & 497 & 25 &  245 & 40 & 5 & 51960000 & 15\\\\\n",
       "\t 20250830 204727 &  27 & 13 &  382 & 29 & 5 & 51738000 & 19\\\\\n",
       "\t 20250830 232640 &  20 & 24 & 1000 & 46 & 5 & 50916000 & 25\\\\\n",
       "\t 20250830 170356 &  97 &  4 &  622 & 10 & 5 & 50355000 &  3\\\\\n",
       "\t 20250830 182817 & 112 & 28 &   47 & 11 & 5 & 50292000 & 10\\\\\n",
       "\t 20250830 185908 &  37 & 16 &  103 & 50 & 5 & 49959000 & 14\\\\\n",
       "\t 20250830 185454 & 327 &  1 &  184 & 23 & 5 & 41154000 & 13\\\\\n",
       "\\end{tabular}\n"
      ],
      "text/markdown": [
       "\n",
       "A data.table: 117 × 8\n",
       "\n",
       "| fecha &lt;chr&gt; | num.trees &lt;int&gt; | max.depth &lt;int&gt; | min.node.size &lt;int&gt; | mtry &lt;int&gt; | xval_folds &lt;int&gt; | ganancia &lt;int&gt; | iteracion &lt;int&gt; |\n",
       "|---|---|---|---|---|---|---|---|\n",
       "| 20250831 123229 | 332 | 12 |  119 | 36 | 5 | 55674000 |  64 |\n",
       "| 20250901 021539 | 330 | 10 |  124 | 47 | 5 | 55578000 | 105 |\n",
       "| 20250831 233903 | 319 | 13 |  363 | 25 | 5 | 55479000 |  99 |\n",
       "| 20250831 124617 | 325 | 13 |   64 | 24 | 5 | 55455000 |  65 |\n",
       "| 20250901 023612 | 500 |  9 |  245 | 25 | 5 | 55413000 | 107 |\n",
       "| 20250830 212959 | 500 | 12 |  561 | 38 | 5 | 55404000 |  21 |\n",
       "| 20250831 140139 | 334 | 11 |  112 | 50 | 5 | 55350000 |  69 |\n",
       "| 20250831 225426 | 500 | 13 |  343 | 36 | 5 | 55323000 |  98 |\n",
       "| 20250831 160900 | 314 | 12 |    7 | 48 | 5 | 55302000 |  75 |\n",
       "| 20250831 185317 | 354 | 10 |   66 | 24 | 5 | 55284000 |  85 |\n",
       "| 20250831 133826 | 338 | 10 |   24 | 37 | 5 | 55209000 |  68 |\n",
       "| 20250831 200154 | 500 | 10 |  137 | 36 | 5 | 55206000 |  89 |\n",
       "| 20250831 154337 | 334 | 11 |  237 | 37 | 5 | 55203000 |  74 |\n",
       "| 20250831 053719 | 329 | 30 |  727 | 20 | 5 | 55188000 |  42 |\n",
       "| 20250831 055039 | 277 | 27 |  670 | 18 | 5 | 55167000 |  43 |\n",
       "| 20250831 130009 | 300 | 12 |  138 | 29 | 5 | 55143000 |  66 |\n",
       "| 20250901 041827 | 343 | 14 |  366 | 10 | 5 | 55128000 | 113 |\n",
       "| 20250831 012910 | 500 | 13 |  380 | 29 | 5 | 55110000 |  31 |\n",
       "| 20250831 132240 | 351 | 13 |  127 | 38 | 5 | 55101000 |  67 |\n",
       "| 20250901 043155 | 488 |  9 |  346 | 23 | 5 | 55101000 | 114 |\n",
       "| 20250901 033925 | 500 | 10 |  271 | 45 | 5 | 55086000 | 110 |\n",
       "| 20250830 225428 | 306 | 17 | 1000 | 43 | 5 | 55053000 |  23 |\n",
       "| 20250831 235925 | 500 | 12 |  117 | 24 | 5 | 54993000 | 100 |\n",
       "| 20250831 110221 | 291 | 24 |  516 | 16 | 5 | 54969000 |  58 |\n",
       "| 20250831 182507 | 173 |  9 |  717 | 25 | 5 | 54966000 |  83 |\n",
       "| 20250831 220302 | 420 | 11 |    1 | 48 | 5 | 54945000 |  96 |\n",
       "| 20250901 041046 | 220 | 13 |  652 | 38 | 5 | 54945000 | 112 |\n",
       "| 20250831 071150 | 500 | 12 |  416 | 43 | 5 | 54939000 |  46 |\n",
       "| 20250831 062950 | 316 | 28 |  805 | 11 | 5 | 54933000 |  45 |\n",
       "| 20250831 174920 | 320 | 11 |   84 | 42 | 5 | 54924000 |  80 |\n",
       "| ⋮ | ⋮ | ⋮ | ⋮ | ⋮ | ⋮ | ⋮ | ⋮ |\n",
       "| 20250831 044824 | 312 | 27 | 1000 | 50 | 5 | 53745000 | 38 |\n",
       "| 20250830 185350 | 381 |  7 |  817 | 42 | 5 | 53742000 | 12 |\n",
       "| 20250830 174705 | 431 | 25 |  902 |  6 | 5 | 53739000 |  6 |\n",
       "| 20250831 045634 | 500 |  6 | 1000 | 20 | 5 | 53724000 | 39 |\n",
       "| 20250831 003345 | 415 | 12 |  554 | 31 | 5 | 53715000 | 29 |\n",
       "| 20250831 052004 | 203 | 15 | 1000 | 33 | 5 | 53715000 | 41 |\n",
       "| 20250831 193748 | 296 | 23 |  448 | 27 | 5 | 53715000 | 88 |\n",
       "| 20250831 113851 | 435 | 30 |  811 | 17 | 5 | 53712000 | 60 |\n",
       "| 20250830 205602 | 179 |  9 |  567 | 42 | 5 | 53676000 | 20 |\n",
       "| 20250831 001018 | 500 | 29 | 1000 |  2 | 5 | 53457000 | 28 |\n",
       "| 20250831 081520 | 196 | 26 |  719 | 13 | 5 | 53457000 | 50 |\n",
       "| 20250831 083103 | 319 | 30 |  678 |  2 | 5 | 53448000 | 52 |\n",
       "| 20250830 184049 | 145 | 30 |  953 | 36 | 5 | 53442000 | 11 |\n",
       "| 20250830 232406 | 396 | 12 | 1000 | 50 | 5 | 53421000 | 24 |\n",
       "| 20250830 181557 | 364 | 20 |  255 | 16 | 5 | 53370000 |  8 |\n",
       "| 20250830 202439 | 486 | 20 |  667 | 29 | 5 | 53346000 | 17 |\n",
       "| 20250831 210542 | 323 | 12 |    1 |  2 | 5 | 53295000 | 94 |\n",
       "| 20250831 184044 | 326 | 15 |   77 | 23 | 5 | 53181000 | 84 |\n",
       "| 20250830 170933 | 319 |  5 |  687 | 29 | 5 | 53142000 |  4 |\n",
       "| 20250831 031058 | 346 | 18 |  965 |  2 | 5 | 53127000 | 34 |\n",
       "| 20250831 061922 | 262 | 30 |  594 | 36 | 5 | 52827000 | 44 |\n",
       "| 20250830 195207 | 206 | 12 |  728 |  3 | 5 | 52791000 | 16 |\n",
       "| 20250831 205437 |  75 |  7 |  870 | 31 | 5 | 52767000 | 92 |\n",
       "| 20250830 195008 | 497 | 25 |  245 | 40 | 5 | 51960000 | 15 |\n",
       "| 20250830 204727 |  27 | 13 |  382 | 29 | 5 | 51738000 | 19 |\n",
       "| 20250830 232640 |  20 | 24 | 1000 | 46 | 5 | 50916000 | 25 |\n",
       "| 20250830 170356 |  97 |  4 |  622 | 10 | 5 | 50355000 |  3 |\n",
       "| 20250830 182817 | 112 | 28 |   47 | 11 | 5 | 50292000 | 10 |\n",
       "| 20250830 185908 |  37 | 16 |  103 | 50 | 5 | 49959000 | 14 |\n",
       "| 20250830 185454 | 327 |  1 |  184 | 23 | 5 | 41154000 | 13 |\n",
       "\n"
      ],
      "text/plain": [
       "    fecha           num.trees max.depth min.node.size mtry xval_folds ganancia\n",
       "1   20250831 123229 332       12         119          36   5          55674000\n",
       "2   20250901 021539 330       10         124          47   5          55578000\n",
       "3   20250831 233903 319       13         363          25   5          55479000\n",
       "4   20250831 124617 325       13          64          24   5          55455000\n",
       "5   20250901 023612 500        9         245          25   5          55413000\n",
       "6   20250830 212959 500       12         561          38   5          55404000\n",
       "7   20250831 140139 334       11         112          50   5          55350000\n",
       "8   20250831 225426 500       13         343          36   5          55323000\n",
       "9   20250831 160900 314       12           7          48   5          55302000\n",
       "10  20250831 185317 354       10          66          24   5          55284000\n",
       "11  20250831 133826 338       10          24          37   5          55209000\n",
       "12  20250831 200154 500       10         137          36   5          55206000\n",
       "13  20250831 154337 334       11         237          37   5          55203000\n",
       "14  20250831 053719 329       30         727          20   5          55188000\n",
       "15  20250831 055039 277       27         670          18   5          55167000\n",
       "16  20250831 130009 300       12         138          29   5          55143000\n",
       "17  20250901 041827 343       14         366          10   5          55128000\n",
       "18  20250831 012910 500       13         380          29   5          55110000\n",
       "19  20250831 132240 351       13         127          38   5          55101000\n",
       "20  20250901 043155 488        9         346          23   5          55101000\n",
       "21  20250901 033925 500       10         271          45   5          55086000\n",
       "22  20250830 225428 306       17        1000          43   5          55053000\n",
       "23  20250831 235925 500       12         117          24   5          54993000\n",
       "24  20250831 110221 291       24         516          16   5          54969000\n",
       "25  20250831 182507 173        9         717          25   5          54966000\n",
       "26  20250831 220302 420       11           1          48   5          54945000\n",
       "27  20250901 041046 220       13         652          38   5          54945000\n",
       "28  20250831 071150 500       12         416          43   5          54939000\n",
       "29  20250831 062950 316       28         805          11   5          54933000\n",
       "30  20250831 174920 320       11          84          42   5          54924000\n",
       "⋮   ⋮               ⋮         ⋮         ⋮             ⋮    ⋮          ⋮       \n",
       "88  20250831 044824 312       27        1000          50   5          53745000\n",
       "89  20250830 185350 381        7         817          42   5          53742000\n",
       "90  20250830 174705 431       25         902           6   5          53739000\n",
       "91  20250831 045634 500        6        1000          20   5          53724000\n",
       "92  20250831 003345 415       12         554          31   5          53715000\n",
       "93  20250831 052004 203       15        1000          33   5          53715000\n",
       "94  20250831 193748 296       23         448          27   5          53715000\n",
       "95  20250831 113851 435       30         811          17   5          53712000\n",
       "96  20250830 205602 179        9         567          42   5          53676000\n",
       "97  20250831 001018 500       29        1000           2   5          53457000\n",
       "98  20250831 081520 196       26         719          13   5          53457000\n",
       "99  20250831 083103 319       30         678           2   5          53448000\n",
       "100 20250830 184049 145       30         953          36   5          53442000\n",
       "101 20250830 232406 396       12        1000          50   5          53421000\n",
       "102 20250830 181557 364       20         255          16   5          53370000\n",
       "103 20250830 202439 486       20         667          29   5          53346000\n",
       "104 20250831 210542 323       12           1           2   5          53295000\n",
       "105 20250831 184044 326       15          77          23   5          53181000\n",
       "106 20250830 170933 319        5         687          29   5          53142000\n",
       "107 20250831 031058 346       18         965           2   5          53127000\n",
       "108 20250831 061922 262       30         594          36   5          52827000\n",
       "109 20250830 195207 206       12         728           3   5          52791000\n",
       "110 20250831 205437  75        7         870          31   5          52767000\n",
       "111 20250830 195008 497       25         245          40   5          51960000\n",
       "112 20250830 204727  27       13         382          29   5          51738000\n",
       "113 20250830 232640  20       24        1000          46   5          50916000\n",
       "114 20250830 170356  97        4         622          10   5          50355000\n",
       "115 20250830 182817 112       28          47          11   5          50292000\n",
       "116 20250830 185908  37       16         103          50   5          49959000\n",
       "117 20250830 185454 327        1         184          23   5          41154000\n",
       "    iteracion\n",
       "1    64      \n",
       "2   105      \n",
       "3    99      \n",
       "4    65      \n",
       "5   107      \n",
       "6    21      \n",
       "7    69      \n",
       "8    98      \n",
       "9    75      \n",
       "10   85      \n",
       "11   68      \n",
       "12   89      \n",
       "13   74      \n",
       "14   42      \n",
       "15   43      \n",
       "16   66      \n",
       "17  113      \n",
       "18   31      \n",
       "19   67      \n",
       "20  114      \n",
       "21  110      \n",
       "22   23      \n",
       "23  100      \n",
       "24   58      \n",
       "25   83      \n",
       "26   96      \n",
       "27  112      \n",
       "28   46      \n",
       "29   45      \n",
       "30   80      \n",
       "⋮   ⋮        \n",
       "88  38       \n",
       "89  12       \n",
       "90   6       \n",
       "91  39       \n",
       "92  29       \n",
       "93  41       \n",
       "94  88       \n",
       "95  60       \n",
       "96  20       \n",
       "97  28       \n",
       "98  50       \n",
       "99  52       \n",
       "100 11       \n",
       "101 24       \n",
       "102  8       \n",
       "103 17       \n",
       "104 94       \n",
       "105 84       \n",
       "106  4       \n",
       "107 34       \n",
       "108 44       \n",
       "109 16       \n",
       "110 92       \n",
       "111 15       \n",
       "112 19       \n",
       "113 25       \n",
       "114  3       \n",
       "115 10       \n",
       "116 14       \n",
       "117 13       "
      ]
     },
     "metadata": {},
     "output_type": "display_data"
    }
   ],
   "source": [
    "# analizo la salida de la bayesiana\n",
    "\n",
    "tb_bayesiana <- fread(klog)\n",
    "setorder( tb_bayesiana, -ganancia)\n",
    "tb_bayesiana"
   ]
  },
  {
   "cell_type": "code",
   "execution_count": 22,
   "metadata": {
    "id": "wQa-hrsVQkmq"
   },
   "outputs": [
    {
     "name": "stdout",
     "output_type": "stream",
     "text": [
      "             fecha num.trees max.depth min.node.size  mtry xval_folds ganancia\n",
      "            <char>     <int>     <int>         <int> <int>      <int>    <int>\n",
      "1: 20250831 123229       332        12           119    36          5 55674000\n",
      "   iteracion\n",
      "       <int>\n",
      "1:        64\n"
     ]
    }
   ],
   "source": [
    "# mejores parametros\n",
    "\n",
    "print( tb_bayesiana[1] )"
   ]
  },
  {
   "cell_type": "code",
   "execution_count": 23,
   "metadata": {
    "id": "LDz-Yl3UPwph"
   },
   "outputs": [
    {
     "data": {
      "text/html": [
       "'Mon Sep 01 05:49:19 2025'"
      ],
      "text/latex": [
       "'Mon Sep 01 05:49:19 2025'"
      ],
      "text/markdown": [
       "'Mon Sep 01 05:49:19 2025'"
      ],
      "text/plain": [
       "[1] \"Mon Sep 01 05:49:19 2025\""
      ]
     },
     "metadata": {},
     "output_type": "display_data"
    }
   ],
   "source": [
    "format(Sys.time(), \"%a %b %d %X %Y\")"
   ]
  },
  {
   "cell_type": "markdown",
   "metadata": {
    "id": "0vu-1vf5LrVg"
   },
   "source": [
    "\n",
    "\n",
    "---\n",
    "\n"
   ]
  }
 ],
 "metadata": {
  "colab": {
   "provenance": []
  },
  "kernelspec": {
   "display_name": "R",
   "language": "R",
   "name": "ir"
  },
  "language_info": {
   "codemirror_mode": "r",
   "file_extension": ".r",
   "mimetype": "text/x-r-source",
   "name": "R",
   "pygments_lexer": "r",
   "version": "4.4.3"
  }
 },
 "nbformat": 4,
 "nbformat_minor": 4
}
